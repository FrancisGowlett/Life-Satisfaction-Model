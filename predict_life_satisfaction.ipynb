{
 "cells": [
  {
   "cell_type": "code",
   "execution_count": 6,
   "metadata": {},
   "outputs": [],
   "source": [
    "import matplotlib\n",
    "import matplotlib.pyplot as plt\n",
    "import numpy as np\n",
    "import pandas as pd\n",
    "import sklearn.linear_model"
   ]
  },
  {
   "cell_type": "code",
   "execution_count": 7,
   "metadata": {},
   "outputs": [],
   "source": [
    "# Load Life Satisfaction Data\n",
    "oecd_bli = pd.read_csv(\"oecd_bli_2015.csv\", thousands=\",\")\n",
    "oecd_bli.index = oecd_bli['Country']\n",
    "\n",
    "# Load GDP Data\n",
    "gdp_per_capita = pd.read_csv(\"gdp_per_capita.csv\", thousands=\",\", delimiter='\\t', encoding=\"latin1\", na_values=\"n/a\")\n",
    "gdp_per_capita.index = gdp_per_capita[\"Country\"]"
   ]
  },
  {
   "cell_type": "code",
   "execution_count": 29,
   "metadata": {
    "scrolled": true
   },
   "outputs": [
    {
     "data": {
      "text/html": [
       "<div>\n",
       "<style scoped>\n",
       "    .dataframe tbody tr th:only-of-type {\n",
       "        vertical-align: middle;\n",
       "    }\n",
       "\n",
       "    .dataframe tbody tr th {\n",
       "        vertical-align: top;\n",
       "    }\n",
       "\n",
       "    .dataframe thead th {\n",
       "        text-align: right;\n",
       "    }\n",
       "</style>\n",
       "<table border=\"1\" class=\"dataframe\">\n",
       "  <thead>\n",
       "    <tr style=\"text-align: right;\">\n",
       "      <th></th>\n",
       "      <th>GDP per Capita (USD)</th>\n",
       "      <th>Life Satisfaction</th>\n",
       "    </tr>\n",
       "    <tr>\n",
       "      <th>Country</th>\n",
       "      <th></th>\n",
       "      <th></th>\n",
       "    </tr>\n",
       "  </thead>\n",
       "  <tbody>\n",
       "    <tr>\n",
       "      <th>Australia</th>\n",
       "      <td>50962.0</td>\n",
       "      <td>7.3</td>\n",
       "    </tr>\n",
       "    <tr>\n",
       "      <th>Austria</th>\n",
       "      <td>43724.0</td>\n",
       "      <td>6.9</td>\n",
       "    </tr>\n",
       "    <tr>\n",
       "      <th>Belgium</th>\n",
       "      <td>40107.0</td>\n",
       "      <td>6.9</td>\n",
       "    </tr>\n",
       "    <tr>\n",
       "      <th>Brazil</th>\n",
       "      <td>8670.0</td>\n",
       "      <td>7.0</td>\n",
       "    </tr>\n",
       "    <tr>\n",
       "      <th>Canada</th>\n",
       "      <td>43332.0</td>\n",
       "      <td>7.3</td>\n",
       "    </tr>\n",
       "  </tbody>\n",
       "</table>\n",
       "</div>"
      ],
      "text/plain": [
       "           GDP per Capita (USD)  Life Satisfaction\n",
       "Country                                           \n",
       "Australia               50962.0                7.3\n",
       "Austria                 43724.0                6.9\n",
       "Belgium                 40107.0                6.9\n",
       "Brazil                   8670.0                7.0\n",
       "Canada                  43332.0                7.3"
      ]
     },
     "execution_count": 29,
     "metadata": {},
     "output_type": "execute_result"
    }
   ],
   "source": [
    "# Prep Data\n",
    "country_stats = prepare_country_stats(oecd_bli, gdp_per_capita)\n",
    "X = np.c_[country_stats['GDP per Capita (USD)']]\n",
    "y = np.c_[country_stats['Life Satisfaction']]\n",
    "country_stats.head()"
   ]
  },
  {
   "cell_type": "code",
   "execution_count": 26,
   "metadata": {},
   "outputs": [
    {
     "data": {
      "image/png": "[encoded data removed]",
      "text/plain": [
       "<Figure size 432x288 with 1 Axes>"
      ]
     },
     "metadata": {
      "needs_background": "light"
     },
     "output_type": "display_data"
    }
   ],
   "source": [
    "# Visualise data\n",
    "country_stats.plot(kind='scatter', x=\"GDP per Capita (USD)\", y=\"Life Satisfaction\", xlim=[0, 60000], ylim=[0, 10])\n",
    "plt.show()"
   ]
  },
  {
   "cell_type": "code",
   "execution_count": 27,
   "metadata": {},
   "outputs": [
    {
     "data": {
      "text/plain": [
       "LinearRegression(copy_X=True, fit_intercept=True, n_jobs=None,\n",
       "         normalize=False)"
      ]
     },
     "execution_count": 27,
     "metadata": {},
     "output_type": "execute_result"
    }
   ],
   "source": [
    "# Set and train model\n",
    "model = sklearn.linear_model.LinearRegression()\n",
    "model.fit(X, y)"
   ]
  },
  {
   "cell_type": "code",
   "execution_count": 30,
   "metadata": {},
   "outputs": [
    {
     "name": "stdout",
     "output_type": "stream",
     "text": [
      "[[6.28653576]]\n"
     ]
    }
   ],
   "source": [
    "# Make Prediction\n",
    "X_new = [[22587]] # gdp of a new country\n",
    "print(model.predict(X_new)) # prints prediction of life statisfaction"
   ]
  },
  {
   "cell_type": "code",
   "execution_count": 31,
   "metadata": {},
   "outputs": [],
   "source": [
    "# Select appropriate data from OECD and GDP tables and combine into a single dataframe\n",
    "def prepare_country_stats(oecd_bli, gdp_per_capita):\n",
    "    req1 = oecd_bli['Indicator']=='Life satisfaction'\n",
    "    req2 = oecd_bli['INEQUALITY']=='TOT'\n",
    "    oecd = pd.DataFrame({'Life Satisfaction':oecd_bli[req1 & req2]['Value']})\n",
    "    gdp = pd.DataFrame({'GDP per Capita (USD)':gdp_per_capita['2015']}).round(0)\n",
    "    return pd.merge(gdp, oecd, on='Country')"
   ]
  },
  {
   "cell_type": "code",
   "execution_count": 32,
   "metadata": {},
   "outputs": [],
   "source": [
    "#Notes\n",
    "#pd.merge() (merge tables) merge on='Country' merges the tables on the common index 'Country' and discards any rows which aren't contained in both tables\n",
    "#re1/re2 Choose multiple conditions when using boolean selections by creating 'requirements' ... boolean expressions which can be used to specificy rows/columns of data\n",
    "#np.c_ = takes all the data from the specified column and builds up a 2d array with just that data\n",
    "#model predicts slightly different values than in the book...? "
   ]
  },
  {
   "cell_type": "code",
   "execution_count": null,
   "metadata": {},
   "outputs": [],
   "source": []
  }
 ],
 "metadata": {
  "kernelspec": {
   "display_name": "Python 3",
   "language": "python",
   "name": "python3"
  },
  "language_info": {
   "codemirror_mode": {
    "name": "ipython",
    "version": 3
   },
   "file_extension": ".py",
   "mimetype": "text/x-python",
   "name": "python",
   "nbconvert_exporter": "python",
   "pygments_lexer": "ipython3",
   "version": "3.7.1"
  }
 },
 "nbformat": 4,
 "nbformat_minor": 2
}
